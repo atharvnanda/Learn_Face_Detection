{
 "cells": [
  {
   "cell_type": "code",
   "execution_count": 1,
   "id": "635651c8",
   "metadata": {},
   "outputs": [
    {
     "name": "stdout",
     "output_type": "stream",
     "text": [
      "WARNING:tensorflow:From c:\\Users\\anjan\\AppData\\Local\\Programs\\Python\\Python311\\Lib\\site-packages\\keras\\src\\losses.py:2976: The name tf.losses.sparse_softmax_cross_entropy is deprecated. Please use tf.compat.v1.losses.sparse_softmax_cross_entropy instead.\n",
      "\n"
     ]
    }
   ],
   "source": [
    "import cv2\n",
    "import mediapipe as mp\n",
    "from mediapipe.tasks import python\n",
    "from mediapipe.tasks.python import vision\n",
    "from mediapipe.tasks.python.vision import FaceLandmarkerOptions, FaceLandmarker\n",
    "import numpy as np"
   ]
  },
  {
   "cell_type": "markdown",
   "id": "1934ab01",
   "metadata": {},
   "source": [
    "# Image"
   ]
  },
  {
   "cell_type": "code",
   "execution_count": 11,
   "id": "e962f049",
   "metadata": {},
   "outputs": [],
   "source": [
    "BaseOptions = mp.tasks.BaseOptions\n",
    "FaceLandmarker = mp.tasks.vision.FaceLandmarker\n",
    "FaceLandmarkerOptions = mp.tasks.vision.FaceLandmarkerOptions\n",
    "VisionRunningMode = mp.tasks.vision.RunningMode\n",
    "\n",
    "options = FaceLandmarkerOptions(\n",
    "    base_options=BaseOptions(model_asset_path='face_landmarker.task'),\n",
    "    running_mode=VisionRunningMode.IMAGE,\n",
    "    num_faces=2,\n",
    "    output_face_blendshapes=True,\n",
    "    output_facial_transformation_matrixes=True,\n",
    ")"
   ]
  },
  {
   "cell_type": "code",
   "execution_count": 46,
   "id": "fea15a18",
   "metadata": {},
   "outputs": [],
   "source": [
    "with FaceLandmarker.create_from_options(options) as face_landmarker:\n",
    "    image = mp.Image.create_from_file('D:/ATHARV/W/CDAC/CODE/PRACTICE/Test_Images/face_cry.jpg')\n",
    "    result = face_landmarker.detect(image)\n",
    "\n",
    "    annotated_image = image.numpy_view().copy()\n",
    "\n",
    "    if result.face_landmarks:\n",
    "        for landmark in result.face_landmarks[0]:\n",
    "            x = int(landmark.x * annotated_image.shape[1])\n",
    "            y = int(landmark.y * annotated_image.shape[0])\n",
    "            cv2.circle(annotated_image, (x, y), 2, (0, 255, 0), -1)\n",
    "\n",
    "    if result.face_blendshapes:\n",
    "        top_shapes = sorted(\n",
    "            result.face_blendshapes[0],\n",
    "            key=lambda c: c.score,\n",
    "            reverse=True\n",
    "        )[0:10]\n",
    "\n",
    "        for i, shape in enumerate(top_shapes):\n",
    "            text = f\"{shape.category_name}: {shape.score:.2f}\"\n",
    "            cv2.putText(annotated_image, text, (10, 30 + i * 25), \n",
    "                        cv2.FONT_HERSHEY_SIMPLEX, 0.7, (0, 0, 255), 2)"
   ]
  },
  {
   "cell_type": "code",
   "execution_count": 47,
   "id": "b357eaa7",
   "metadata": {},
   "outputs": [],
   "source": [
    "display_image = cv2.resize(annotated_image, (1024, 768))\n",
    "cv2.imshow('Static Face Mesh with Blendshapes', display_image)\n",
    "cv2.waitKey(0)\n",
    "cv2.destroyAllWindows()"
   ]
  },
  {
   "cell_type": "markdown",
   "id": "f1c981b2",
   "metadata": {},
   "source": [
    "# Videos"
   ]
  },
  {
   "cell_type": "code",
   "execution_count": 2,
   "id": "6de38eae",
   "metadata": {},
   "outputs": [],
   "source": [
    "model_path = \"face_landmarker.task\"\n",
    "BaseOptions = mp.tasks.BaseOptions\n",
    "VisionRunningMode = mp.tasks.vision.RunningMode\n",
    "\n",
    "options = FaceLandmarkerOptions(\n",
    "    base_options=BaseOptions(model_asset_path=model_path),\n",
    "    output_face_blendshapes=True,\n",
    "    output_facial_transformation_matrixes=True,\n",
    "    num_faces=1,\n",
    "    running_mode=VisionRunningMode.VIDEO\n",
    ")\n",
    "\n",
    "face_landmarker = FaceLandmarker.create_from_options(options)"
   ]
  },
  {
   "cell_type": "code",
   "execution_count": 4,
   "id": "5332704a",
   "metadata": {},
   "outputs": [],
   "source": [
    "cam = cv2.VideoCapture(0)\n",
    "while cam.isOpened():\n",
    "    success, frame = cam.read()\n",
    "    if not success:\n",
    "        break\n",
    "\n",
    "    rgb_frame = cv2.cvtColor(frame, cv2.COLOR_BGR2RGB)\n",
    "    mp_image = mp.Image(image_format=mp.ImageFormat.SRGB, data=rgb_frame)\n",
    "\n",
    "    timestamp = int(cv2.getTickCount() / cv2.getTickFrequency() * 1000)\n",
    "\n",
    "    result = face_landmarker.detect_for_video(mp_image, timestamp)\n",
    "\n",
    "    if result.face_landmarks:\n",
    "        for face_landmarks in result.face_landmarks:\n",
    "            for landmark in face_landmarks:\n",
    "                x = int(landmark.x * frame.shape[1])\n",
    "                y = int(landmark.y * frame.shape[0])\n",
    "                cv2.circle(frame, (x, y), 1, (0, 255, 0), -1)\n",
    "\n",
    "    if result.face_blendshapes:\n",
    "        top_shapes = sorted(\n",
    "            result.face_blendshapes[0],\n",
    "            key=lambda c: c.score,\n",
    "            reverse=True\n",
    "        )[:10]\n",
    "        for i, shape in enumerate(top_shapes):\n",
    "            text = f\"{shape.category_name}: {shape.score:.2f}\"\n",
    "            cv2.putText(frame, text, (10, 30 + i * 25),\n",
    "                        cv2.FONT_HERSHEY_SIMPLEX, 0.6, (255, 0, 255), 2)\n",
    "\n",
    "    cv2.imshow(\"Face Landmarks & Blendshapes - VIDEO Mode\", frame)\n",
    "\n",
    "    if cv2.waitKey(1) & 0xFF == ord('q'):  # ESC key to exit\n",
    "        break\n",
    "\n",
    "cam.release()\n",
    "cv2.destroyAllWindows()\n"
   ]
  }
 ],
 "metadata": {
  "kernelspec": {
   "display_name": "Python 3",
   "language": "python",
   "name": "python3"
  },
  "language_info": {
   "codemirror_mode": {
    "name": "ipython",
    "version": 3
   },
   "file_extension": ".py",
   "mimetype": "text/x-python",
   "name": "python",
   "nbconvert_exporter": "python",
   "pygments_lexer": "ipython3",
   "version": "3.11.0"
  }
 },
 "nbformat": 4,
 "nbformat_minor": 5
}
